{
  "nbformat": 4,
  "nbformat_minor": 0,
  "metadata": {
    "kernelspec": {
      "display_name": "Python 2",
      "language": "python",
      "name": "python2"
    },
    "language_info": {
      "codemirror_mode": {
        "name": "ipython",
        "version": 2
      },
      "file_extension": ".py",
      "mimetype": "text/x-python",
      "name": "python",
      "nbconvert_exporter": "python",
      "pygments_lexer": "ipython2",
      "version": "2.7.16"
    },
    "colab": {
      "name": "Summer.ipynb",
      "provenance": [],
      "collapsed_sections": []
    }
  },
  "cells": [
    {
      "cell_type": "markdown",
      "metadata": {
        "id": "TrDbqXiICNGp"
      },
      "source": [
        "# Summer Olympics Data Analysis Assignment"
      ]
    },
    {
      "cell_type": "code",
      "metadata": {
        "colab": {
          "base_uri": "https://localhost:8080/",
          "height": 203
        },
        "id": "-sH05skdCNGr",
        "outputId": "8972100b-1bcc-4bb8-f027-a56681aad83c"
      },
      "source": [
        "import pandas as pd\n",
        "\n",
        "data = pd.read_csv(\"summer.csv\")\n",
        "data.head()"
      ],
      "execution_count": 3,
      "outputs": [
        {
          "output_type": "execute_result",
          "data": {
            "text/plain": [
              "   Year    City     Sport Discipline             Athlete Country Gender  \\\n",
              "0  1896  Athens  Aquatics   Swimming       HAJOS, Alfred     HUN    Men   \n",
              "1  1896  Athens  Aquatics   Swimming    HERSCHMANN, Otto     AUT    Men   \n",
              "2  1896  Athens  Aquatics   Swimming   DRIVAS, Dimitrios     GRE    Men   \n",
              "3  1896  Athens  Aquatics   Swimming  MALOKINIS, Ioannis     GRE    Men   \n",
              "4  1896  Athens  Aquatics   Swimming  CHASAPIS, Spiridon     GRE    Men   \n",
              "\n",
              "                        Event   Medal  \n",
              "0              100M Freestyle    Gold  \n",
              "1              100M Freestyle  Silver  \n",
              "2  100M Freestyle For Sailors  Bronze  \n",
              "3  100M Freestyle For Sailors    Gold  \n",
              "4  100M Freestyle For Sailors  Silver  "
            ],
            "text/html": [
              "<div>\n",
              "<style scoped>\n",
              "    .dataframe tbody tr th:only-of-type {\n",
              "        vertical-align: middle;\n",
              "    }\n",
              "\n",
              "    .dataframe tbody tr th {\n",
              "        vertical-align: top;\n",
              "    }\n",
              "\n",
              "    .dataframe thead th {\n",
              "        text-align: right;\n",
              "    }\n",
              "</style>\n",
              "<table border=\"1\" class=\"dataframe\">\n",
              "  <thead>\n",
              "    <tr style=\"text-align: right;\">\n",
              "      <th></th>\n",
              "      <th>Year</th>\n",
              "      <th>City</th>\n",
              "      <th>Sport</th>\n",
              "      <th>Discipline</th>\n",
              "      <th>Athlete</th>\n",
              "      <th>Country</th>\n",
              "      <th>Gender</th>\n",
              "      <th>Event</th>\n",
              "      <th>Medal</th>\n",
              "    </tr>\n",
              "  </thead>\n",
              "  <tbody>\n",
              "    <tr>\n",
              "      <th>0</th>\n",
              "      <td>1896</td>\n",
              "      <td>Athens</td>\n",
              "      <td>Aquatics</td>\n",
              "      <td>Swimming</td>\n",
              "      <td>HAJOS, Alfred</td>\n",
              "      <td>HUN</td>\n",
              "      <td>Men</td>\n",
              "      <td>100M Freestyle</td>\n",
              "      <td>Gold</td>\n",
              "    </tr>\n",
              "    <tr>\n",
              "      <th>1</th>\n",
              "      <td>1896</td>\n",
              "      <td>Athens</td>\n",
              "      <td>Aquatics</td>\n",
              "      <td>Swimming</td>\n",
              "      <td>HERSCHMANN, Otto</td>\n",
              "      <td>AUT</td>\n",
              "      <td>Men</td>\n",
              "      <td>100M Freestyle</td>\n",
              "      <td>Silver</td>\n",
              "    </tr>\n",
              "    <tr>\n",
              "      <th>2</th>\n",
              "      <td>1896</td>\n",
              "      <td>Athens</td>\n",
              "      <td>Aquatics</td>\n",
              "      <td>Swimming</td>\n",
              "      <td>DRIVAS, Dimitrios</td>\n",
              "      <td>GRE</td>\n",
              "      <td>Men</td>\n",
              "      <td>100M Freestyle For Sailors</td>\n",
              "      <td>Bronze</td>\n",
              "    </tr>\n",
              "    <tr>\n",
              "      <th>3</th>\n",
              "      <td>1896</td>\n",
              "      <td>Athens</td>\n",
              "      <td>Aquatics</td>\n",
              "      <td>Swimming</td>\n",
              "      <td>MALOKINIS, Ioannis</td>\n",
              "      <td>GRE</td>\n",
              "      <td>Men</td>\n",
              "      <td>100M Freestyle For Sailors</td>\n",
              "      <td>Gold</td>\n",
              "    </tr>\n",
              "    <tr>\n",
              "      <th>4</th>\n",
              "      <td>1896</td>\n",
              "      <td>Athens</td>\n",
              "      <td>Aquatics</td>\n",
              "      <td>Swimming</td>\n",
              "      <td>CHASAPIS, Spiridon</td>\n",
              "      <td>GRE</td>\n",
              "      <td>Men</td>\n",
              "      <td>100M Freestyle For Sailors</td>\n",
              "      <td>Silver</td>\n",
              "    </tr>\n",
              "  </tbody>\n",
              "</table>\n",
              "</div>"
            ]
          },
          "metadata": {},
          "execution_count": 3
        }
      ]
    },
    {
      "cell_type": "markdown",
      "metadata": {
        "id": "Csug_TiTCNGq"
      },
      "source": [
        "### 1. In how many cities Summer Olympics is held so far?"
      ]
    },
    {
      "cell_type": "code",
      "metadata": {
        "colab": {
          "base_uri": "https://localhost:8080/"
        },
        "id": "X-Q_ae4DGGZM",
        "outputId": "7f4a2fe1-46f0-4157-87a1-1055031f4a07"
      },
      "source": [
        "cities = len(data[\"City\"].unique())\n",
        "print(\"Summer olympics has been held in \" + str(cities) + \" different cities\")"
      ],
      "execution_count": 33,
      "outputs": [
        {
          "output_type": "stream",
          "name": "stdout",
          "text": [
            "Summer olympics has been held in 22 different cities\n"
          ]
        }
      ]
    },
    {
      "cell_type": "markdown",
      "metadata": {
        "id": "YjnCLiBnCNGr"
      },
      "source": [
        "### 2. Which sport is having most number of Gold Medals so far? (Top 5)"
      ]
    },
    {
      "cell_type": "code",
      "metadata": {
        "colab": {
          "base_uri": "https://localhost:8080/",
          "height": 504
        },
        "id": "DdGIBt_mMXXZ",
        "outputId": "9b52f317-253f-4e16-f53b-01993d9374c4"
      },
      "source": [
        "gold_only = data.loc[data['Medal']=='Gold']     #data with gold medals only\n",
        "gold = []\n",
        "for sports in gold_only[\"Sport\"].unique():\n",
        "  gold.append([sports , len(gold_only[gold_only['Sport']==sports])])\n",
        "new = pd.DataFrame(gold, columns=[\"Sport\", \"Gold\"]).sort_values(by=\"Gold\", ascending=False).head()\n",
        "print(new)\n",
        "new.plot(x='Sport', y='Gold', kind='bar', figsize=(10, 5), color='orange')"
      ],
      "execution_count": 7,
      "outputs": [
        {
          "output_type": "stream",
          "name": "stdout",
          "text": [
            "         Sport  Gold\n",
            "0     Aquatics  1421\n",
            "1    Athletics  1215\n",
            "17      Rowing   890\n",
            "4   Gymnastics   820\n",
            "3      Fencing   552\n"
          ]
        },
        {
          "output_type": "execute_result",
          "data": {
            "text/plain": [
              "<matplotlib.axes._subplots.AxesSubplot at 0x7f8ada1c3c10>"
            ]
          },
          "metadata": {},
          "execution_count": 7
        },
        {
          "output_type": "display_data",
          "data": {
            "image/png": "[encoded data removed]",
            "text/plain": [
              "<Figure size 720x360 with 1 Axes>"
            ]
          },
          "metadata": {
            "needs_background": "light"
          }
        }
      ]
    },
    {
      "cell_type": "markdown",
      "metadata": {
        "id": "xTVhnkOyCNGt"
      },
      "source": [
        "### 3. Which sport is having most number of medals so far? (Top 5)"
      ]
    },
    {
      "cell_type": "code",
      "metadata": {
        "colab": {
          "base_uri": "https://localhost:8080/",
          "height": 504
        },
        "id": "oQFrnnASCNGt",
        "outputId": "fd1246d0-94ed-471e-b639-b887701efa99"
      },
      "source": [
        "medals = []       #Since all entries have medals, it is enough to count the number of entries\n",
        "for sports in data[\"Sport\"].unique():\n",
        "  medals.append([sports , len(data[data['Sport']==sports])])\n",
        "new = pd.DataFrame(medals, columns=[\"Sport\", \"Medals\"]).sort_values(by=\"Medals\", ascending=False).head()\n",
        "print(new)\n",
        "new.plot(x='Sport', y='Medals', kind='bar', figsize=(10, 5), color='orange')"
      ],
      "execution_count": 9,
      "outputs": [
        {
          "output_type": "stream",
          "name": "stdout",
          "text": [
            "         Sport  Medals\n",
            "0     Aquatics    4170\n",
            "1    Athletics    3638\n",
            "17      Rowing    2667\n",
            "4   Gymnastics    2307\n",
            "3      Fencing    1613\n"
          ]
        },
        {
          "output_type": "execute_result",
          "data": {
            "text/plain": [
              "<matplotlib.axes._subplots.AxesSubplot at 0x7f8ad7c66c90>"
            ]
          },
          "metadata": {},
          "execution_count": 9
        },
        {
          "output_type": "display_data",
          "data": {
            "image/png": "[encoded data removed]",
            "text/plain": [
              "<Figure size 720x360 with 1 Axes>"
            ]
          },
          "metadata": {
            "needs_background": "light"
          }
        }
      ]
    },
    {
      "cell_type": "markdown",
      "metadata": {
        "id": "m0__rd-iCNGt"
      },
      "source": [
        "### 4. Which player has won most number of medals? (Top 5)"
      ]
    },
    {
      "cell_type": "code",
      "metadata": {
        "colab": {
          "base_uri": "https://localhost:8080/",
          "height": 562
        },
        "id": "Od2C-EphCNGt",
        "outputId": "b07216d3-04b9-4d51-ae2c-72bd14abb1d3"
      },
      "source": [
        "medals = []       #Since all entries have a player and medal, it is enough to count the number of entries\n",
        "for athlete in data[\"Athlete\"].unique():\n",
        "  medals.append([athlete , len(data[data['Athlete']==athlete])])\n",
        "new = pd.DataFrame(medals, columns=[\"Athlete\", \"Medals\"]).sort_values(by=\"Medals\", ascending=False).head()\n",
        "print(new)\n",
        "new.plot(x='Athlete', y='Medals', kind='bar', figsize=(10, 5), color='orange')"
      ],
      "execution_count": 10,
      "outputs": [
        {
          "output_type": "stream",
          "name": "stdout",
          "text": [
            "                    Athlete  Medals\n",
            "18640       PHELPS, Michael      22\n",
            "7197       LATYNINA, Larisa      18\n",
            "9948     ANDRIANOV, Nikolay      15\n",
            "6591           ONO, Takashi      13\n",
            "5103   MANGIAROTTI, Edoardo      13\n"
          ]
        },
        {
          "output_type": "execute_result",
          "data": {
            "text/plain": [
              "<matplotlib.axes._subplots.AxesSubplot at 0x7f8ad7d52cd0>"
            ]
          },
          "metadata": {},
          "execution_count": 10
        },
        {
          "output_type": "display_data",
          "data": {
            "image/png": "[encoded data removed]",
            "text/plain": [
              "<Figure size 720x360 with 1 Axes>"
            ]
          },
          "metadata": {
            "needs_background": "light"
          }
        }
      ]
    },
    {
      "cell_type": "markdown",
      "metadata": {
        "id": "vhOw3t2LCNGu"
      },
      "source": [
        "### 5. Which player has won most number Gold Medals of medals? (Top 5)"
      ]
    },
    {
      "cell_type": "code",
      "metadata": {
        "colab": {
          "base_uri": "https://localhost:8080/",
          "height": 530
        },
        "id": "Wc5zLP59CNGu",
        "outputId": "a4d3074b-f530-4570-9dca-0b4a03309064"
      },
      "source": [
        "medals = []       \n",
        "for athlete in gold_only[\"Athlete\"].unique():\n",
        "  medals.append([athlete , len(gold_only[gold_only['Athlete']==athlete])])\n",
        "new = pd.DataFrame(medals, columns=[\"Athlete\", \"Gold\"]).sort_values(by=\"Gold\", ascending=False).head()\n",
        "print(new)\n",
        "new.plot(x='Athlete', y='Gold', kind='bar', figsize=(10, 5), color='orange')"
      ],
      "execution_count": 12,
      "outputs": [
        {
          "output_type": "stream",
          "name": "stdout",
          "text": [
            "               Athlete  Gold\n",
            "6851   PHELPS, Michael    18\n",
            "3320       SPITZ, Mark     9\n",
            "2714  LATYNINA, Larisa     9\n",
            "4630       LEWIS, Carl     9\n",
            "907       NURMI, Paavo     9\n"
          ]
        },
        {
          "output_type": "execute_result",
          "data": {
            "text/plain": [
              "<matplotlib.axes._subplots.AxesSubplot at 0x7f8ad7cc6910>"
            ]
          },
          "metadata": {},
          "execution_count": 12
        },
        {
          "output_type": "display_data",
          "data": {
            "image/png": "[encoded data removed]",
            "text/plain": [
              "<Figure size 720x360 with 1 Axes>"
            ]
          },
          "metadata": {
            "needs_background": "light"
          }
        }
      ]
    },
    {
      "cell_type": "markdown",
      "metadata": {
        "id": "EuJ7BB0KCNGu"
      },
      "source": [
        "### 6. In which year India won first Gold Medal in Summer Olympics?"
      ]
    },
    {
      "cell_type": "code",
      "metadata": {
        "id": "FZIzmw6BCNGu",
        "colab": {
          "base_uri": "https://localhost:8080/"
        },
        "outputId": "6bfc76c5-dd83-4942-88d8-ed618e9af341"
      },
      "source": [
        "first_gold = data.loc[(data[\"Country\"] == \"IND\") & (data[\"Medal\"] == \"Gold\")][\"Year\"].min()\n",
        "print(\"India got their first gold in \" + str(first_gold))"
      ],
      "execution_count": 14,
      "outputs": [
        {
          "output_type": "stream",
          "name": "stdout",
          "text": [
            "India got their first gold in 1928\n"
          ]
        }
      ]
    },
    {
      "cell_type": "markdown",
      "metadata": {
        "id": "JJPgaSIDCNGv"
      },
      "source": [
        "### 7. Which event is most popular in terms on number of players? (Top 5)"
      ]
    },
    {
      "cell_type": "code",
      "metadata": {
        "id": "-5usXrXpCNGv",
        "colab": {
          "base_uri": "https://localhost:8080/",
          "height": 573
        },
        "outputId": "4dca6eed-84ec-48c9-e688-54fe53b46066"
      },
      "source": [
        "popularity = []\n",
        "for event in data[\"Event\"].unique():\n",
        "  temp_data = data.loc[data[\"Event\"]==event]\n",
        "  popularity.append([event, len(temp_data[\"Athlete\"].unique())])\n",
        "popularity = pd.DataFrame(popularity, columns=(\"Event\", \"Players\")).sort_values(\"Players\", ascending=False).head()\n",
        "print(popularity)\n",
        "popularity.plot(kind=\"bar\", x=\"Event\", y=\"Players\", figsize=(10, 5), color=\"Orange\")"
      ],
      "execution_count": 32,
      "outputs": [
        {
          "output_type": "stream",
          "name": "stdout",
          "text": [
            "                        Event  Players\n",
            "80                   Football     1357\n",
            "176                    Hockey     1154\n",
            "138          Team Competition      975\n",
            "83   Eight With Coxswain (8+)      828\n",
            "327                Basketball      814\n"
          ]
        },
        {
          "output_type": "execute_result",
          "data": {
            "text/plain": [
              "<matplotlib.axes._subplots.AxesSubplot at 0x7f8ad2fccc90>"
            ]
          },
          "metadata": {},
          "execution_count": 32
        },
        {
          "output_type": "display_data",
          "data": {
            "image/png": "[encoded data removed]",
            "text/plain": [
              "<Figure size 720x360 with 1 Axes>"
            ]
          },
          "metadata": {
            "needs_background": "light"
          }
        }
      ]
    },
    {
      "cell_type": "markdown",
      "metadata": {
        "id": "-KkPfYxbCNGv"
      },
      "source": [
        "### 8. Which sport is having most female Gold Medalists? (Top 5)"
      ]
    },
    {
      "cell_type": "code",
      "metadata": {
        "id": "7B56XdT6CNGv",
        "colab": {
          "base_uri": "https://localhost:8080/",
          "height": 504
        },
        "outputId": "1d8a16e8-c02f-4883-daf9-61215fe1d964"
      },
      "source": [
        "medal=[]\n",
        "female_gold = data.loc[(data[\"Gender\"]==\"Women\") & (data[\"Medal\"] == \"Gold\")]      #filters for data with gender:women and medal:gold\n",
        "for sport in female_gold[\"Sport\"].unique():\n",
        "  medal.append([sport, len(female_gold[female_gold[\"Sport\"]==sport])])\n",
        "new = pd.DataFrame(medal, columns=(\"Sport\", \"Gold\")).sort_values(\"Gold\", ascending=False).head()\n",
        "print(new)\n",
        "new.plot(kind=\"bar\", x=\"Sport\", y=\"Gold\", figsize=(10, 5), color=\"Orange\")"
      ],
      "execution_count": 24,
      "outputs": [
        {
          "output_type": "stream",
          "name": "stdout",
          "text": [
            "         Sport  Gold\n",
            "4     Aquatics   589\n",
            "7    Athletics   389\n",
            "8   Gymnastics   268\n",
            "14      Rowing   217\n",
            "11  Volleyball   166\n"
          ]
        },
        {
          "output_type": "execute_result",
          "data": {
            "text/plain": [
              "<matplotlib.axes._subplots.AxesSubplot at 0x7f8ad370efd0>"
            ]
          },
          "metadata": {},
          "execution_count": 24
        },
        {
          "output_type": "display_data",
          "data": {
            "image/png": "[encoded data removed]",
            "text/plain": [
              "<Figure size 720x360 with 1 Axes>"
            ]
          },
          "metadata": {
            "needs_background": "light"
          }
        }
      ]
    },
    {
      "cell_type": "code",
      "metadata": {
        "id": "QpcGzgMuC8Th"
      },
      "source": [
        ""
      ],
      "execution_count": null,
      "outputs": []
    }
  ]
}